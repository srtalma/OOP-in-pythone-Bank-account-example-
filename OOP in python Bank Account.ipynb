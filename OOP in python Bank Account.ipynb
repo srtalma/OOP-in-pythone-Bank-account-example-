{
 "cells": [
  {
   "cell_type": "code",
   "execution_count": 10,
   "id": "c44d621a",
   "metadata": {},
   "outputs": [],
   "source": [
    "#مثال للبرمجة غرضية التوجة\n",
    "#حساب بنكي\n",
    "\n",
    "class Account:\n",
    "    def __init__(self,owner,balance=0):\n",
    "        self.owner = owner\n",
    "        self.balance = balance\n",
    "        \n",
    "    def __str__(self):\n",
    "        return f'Account owner:   {self.owner}\\nAccount balance: ${self.balance}'\n",
    "        \n",
    "    def deposit(self,dep_amt):\n",
    "        #آليه الايداع\n",
    "        self.balance += dep_amt\n",
    "        print('Deposit Accepted')\n",
    "        \n",
    "    def withdraw(self,wd_amt):\n",
    "        #اليه السحب\n",
    "        \n",
    "        if self.balance >= wd_amt:\n",
    "            self.balance -= wd_amt\n",
    "            print('Withdrawal Accepted')\n",
    "        else:\n",
    "            print('Funds Unavailable!')\n",
    "        "
   ]
  },
  {
   "cell_type": "code",
   "execution_count": 3,
   "id": "e5ea7da4",
   "metadata": {},
   "outputs": [],
   "source": [
    "# 1. آنشاء كلاس\n",
    "acct1 = Account('Jose',100)"
   ]
  },
  {
   "cell_type": "code",
   "execution_count": 4,
   "id": "2a925cfe",
   "metadata": {},
   "outputs": [
    {
     "name": "stdout",
     "output_type": "stream",
     "text": [
      "Account owner:   Jose\n",
      "Account balance: $100\n"
     ]
    }
   ],
   "source": [
    "# 2. طباعة الغرض\n",
    "print(acct1)"
   ]
  },
  {
   "cell_type": "code",
   "execution_count": 5,
   "id": "956caf0d",
   "metadata": {},
   "outputs": [
    {
     "data": {
      "text/plain": [
       "'Jose'"
      ]
     },
     "execution_count": 5,
     "metadata": {},
     "output_type": "execute_result"
    }
   ],
   "source": [
    "# 3. عرض مالك الحساب\n",
    "acct1.owner"
   ]
  },
  {
   "cell_type": "code",
   "execution_count": 6,
   "id": "8059dcaf",
   "metadata": {},
   "outputs": [
    {
     "data": {
      "text/plain": [
       "100"
      ]
     },
     "execution_count": 6,
     "metadata": {},
     "output_type": "execute_result"
    }
   ],
   "source": [
    "# 4. عرض رصيد الحساب\n",
    "acct1.balance"
   ]
  },
  {
   "cell_type": "code",
   "execution_count": 7,
   "id": "b75000bd",
   "metadata": {},
   "outputs": [
    {
     "name": "stdout",
     "output_type": "stream",
     "text": [
      "ok\n"
     ]
    }
   ],
   "source": [
    "# 5. ايداع\n",
    "acct1.deposit(50)"
   ]
  },
  {
   "cell_type": "code",
   "execution_count": 8,
   "id": "8bcff218",
   "metadata": {},
   "outputs": [
    {
     "name": "stdout",
     "output_type": "stream",
     "text": [
      "Withdrawal Accepted\n"
     ]
    }
   ],
   "source": [
    "#ايداع اخر\n",
    "acct1.withdraw(75)\n"
   ]
  },
  {
   "cell_type": "code",
   "execution_count": 9,
   "id": "eb10e266",
   "metadata": {},
   "outputs": [
    {
     "name": "stdout",
     "output_type": "stream",
     "text": [
      "Funds Unavailable!\n"
     ]
    }
   ],
   "source": [
    "# 6. سحب مبلغ اكبر من الرصيد المتوفر\n",
    "acct1.withdraw(500)"
   ]
  }
 ],
 "metadata": {
  "kernelspec": {
   "display_name": "Python 3",
   "language": "python",
   "name": "python3"
  },
  "language_info": {
   "codemirror_mode": {
    "name": "ipython",
    "version": 3
   },
   "file_extension": ".py",
   "mimetype": "text/x-python",
   "name": "python",
   "nbconvert_exporter": "python",
   "pygments_lexer": "ipython3",
   "version": "3.8.8"
  }
 },
 "nbformat": 4,
 "nbformat_minor": 5
}
